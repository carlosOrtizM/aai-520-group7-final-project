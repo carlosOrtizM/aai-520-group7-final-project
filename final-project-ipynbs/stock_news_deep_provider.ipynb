{
 "cells": [
  {
   "cell_type": "code",
   "id": "initial_id",
   "metadata": {
    "collapsed": true,
    "ExecuteTime": {
     "end_time": "2025-10-20T04:31:32.018049Z",
     "start_time": "2025-10-20T04:31:19.394203Z"
    }
   },
   "source": [
    "from langchain.chat_models import init_chat_model\n",
    "import os\n",
    "from typing import Literal\n",
    "from deepagents import create_deep_agent\n",
    "from langchain_community.tools import DuckDuckGoSearchResults\n",
    "\n",
    "researcher = DuckDuckGoSearchResults()\n",
    "\n",
    "# Web search tool\n",
    "def ddg_search(\n",
    "    query: str,\n",
    "    max_results: int = 10,\n",
    "    category: Literal[\"general\", \"news\", \"finance\"] = \"general\",\n",
    "    include_raw_content: bool = False,\n",
    "):\n",
    "    \"\"\"Execute a duckduckgo internet search\"\"\"\n",
    "    return researcher.invoke(\n",
    "        query,\n",
    "        max_results=max_results,\n",
    "        include_raw_content=include_raw_content,\n",
    "        topic=category,\n",
    "    )\n",
    "\n",
    "\n",
    "# System prompt\n",
    "rsch_instructions = \"\"\"You are an expert financial researcher. Your job is to conduct thorough research, and then write a polished report about a given stock.\n",
    "\n",
    "You have access to an internet search tool as your primary means of gathering information.\n",
    "\n",
    "## `ddg_search`\n",
    "\n",
    "Use this to run an internet search for a given query. You can specify the max number of results to return, the topic, and whether raw content should be included.\n",
    "\"\"\"\n",
    "\n",
    "model = init_chat_model(\n",
    "    model=\"ollama:llama3.2\",\n",
    ")\n",
    "\n",
    "# Create the deep agent\n",
    "agent = create_deep_agent(\n",
    "    model=model,\n",
    "    tools=[ddg_search],\n",
    "    system_prompt=rsch_instructions,\n",
    ")\n",
    "\n",
    "# Start the agent\n",
    "agent_result = agent.invoke({\"messages\": [{\"role\": \"user\", \"content\": \"Should i buy Apple Stock?\"}]})"
   ],
   "outputs": [],
   "execution_count": 3
  },
  {
   "metadata": {
    "ExecuteTime": {
     "end_time": "2025-10-20T04:31:59.879042Z",
     "start_time": "2025-10-20T04:31:59.874608Z"
    }
   },
   "cell_type": "code",
   "source": [
    "# Result printing\n",
    "for message in agent_result[\"messages\"]:\n",
    "    message.pretty_print()"
   ],
   "id": "175b50d6b4d7321",
   "outputs": [
    {
     "name": "stdout",
     "output_type": "stream",
     "text": [
      "================================\u001B[1m Human Message \u001B[0m=================================\n",
      "\n",
      "Should i buy Apple Stock?\n",
      "==================================\u001B[1m Ai Message \u001B[0m==================================\n",
      "Tool Calls:\n",
      "  ddg_search (b9769ba9-381d-4445-ad92-ddc10eb28462)\n",
      " Call ID: b9769ba9-381d-4445-ad92-ddc10eb28462\n",
      "  Args:\n",
      "    category: general\n",
      "    include_raw_content: False\n",
      "    max_results: 1\n",
      "    query: should I buy Apple stock\n",
      "=================================\u001B[1m Tool Message \u001B[0m=================================\n",
      "Name: ddg_search\n",
      "\n",
      "snippet: ... Apple stock is supported by healthy free cash flow, a dividend of 90 ... 00:00 Should you buy Apple stock ? Apple has a market cap of $2.39 trillion., title: Should you buy Apple stock? March 2023 - video Dailymotion, link: https://www.dailymotion.com/video/x8ppktq, snippet: ... www.overlookedalpha.com So far in 2022, Apple stock has ... 00:00 Should you buy Apple stock ? So far in 2022 Apple stock has outperformed its rivals., title: Should you buy Apple stock? 3-minute analysis - video, link: https://www.dailymotion.com/video/x8pb25i, snippet: ... Apple is most likely the largest company in the ... 01:37 rather give up their second car than give up their iPhone and Apple stock now represents, title: Should you buy Apple stock? (May 2023) - video Dailymotion, link: https://www.dailymotion.com/video/x8ozvba, snippet: I hear you asking: Should I buy Apple stock now or wait for the price to come down? In fact Apple share price has already dropped significantly since ..., title: Should I buy Apple stock?, link: https://tradinggraphs.com/should-i-buy-apple-stock/\n",
      "==================================\u001B[1m Ai Message \u001B[0m==================================\n",
      "\n",
      "Based on the search results, it seems that opinions on whether to buy Apple stock are mixed. Some sources suggest that Apple stock has outperformed its rivals so far in 2022 and may be a good investment opportunity. Others express caution, citing the company's high market capitalization and potential for price volatility.\n",
      "\n",
      "However, it's essential to conduct your own research and consider your individual financial goals and risk tolerance before making any investment decisions. It's also important to stay informed about market trends and company performance.\n",
      "\n",
      "Ultimately, whether or not you should buy Apple stock depends on your specific circumstances and investment strategy. It may be helpful to consult with a financial advisor or conduct further research before making a decision.\n"
     ]
    }
   ],
   "execution_count": 4
  }
 ],
 "metadata": {
  "kernelspec": {
   "display_name": "Python 3",
   "language": "python",
   "name": "python3"
  },
  "language_info": {
   "codemirror_mode": {
    "name": "ipython",
    "version": 2
   },
   "file_extension": ".py",
   "mimetype": "text/x-python",
   "name": "python",
   "nbconvert_exporter": "python",
   "pygments_lexer": "ipython2",
   "version": "2.7.6"
  }
 },
 "nbformat": 4,
 "nbformat_minor": 5
}
