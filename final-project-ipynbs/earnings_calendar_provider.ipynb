{
 "cells": [
  {
   "metadata": {},
   "cell_type": "markdown",
   "source": "# EarningsCalendarProvider",
   "id": "6db7f361067d4b1e"
  },
  {
   "metadata": {},
   "cell_type": "markdown",
   "source": [
    "**earnings_calendar_provider.ipynb:**\n",
    "\n",
    "EarningsCalendarProvider:  tells us when the event happens (the next earnings dates).  It’s a thin wrapper around the Finnhub API that fetches an upcoming earnings calendar for a given stock (e.g., AAPL) within a configurable lookahead window (default 120 days). You initialize EarningsCalendarProvider with an API key and ticker, it builds a Finnhub client, computes a time window from “now” to “now + lookahead,” calls earnings_calendar(...), and returns whatever Finnhub sends back. The class is meant to be a plug-in style “provider” you can swap or extend later (e.g., add a user-supplied function, multiple data sources, or logic to pick the single next earnings date).\n",
    "\n",
    "Why EarningsCalendarProvider matters ?\n",
    "\n",
    "Knowing the next earnings date is crucial for automation, enabling workflows like setting alerts and backtesting strategies. It also enhances user experience with timely notifications (“AAPL reports in 5 days”), calendar overlays, and conditional tasks (e.g., scrape news the day before) and facilitates data quality through"
   ],
   "id": "57ffdedb31de0a2"
  },
  {
   "metadata": {
    "ExecuteTime": {
     "end_time": "2025-10-20T04:15:41.728243Z",
     "start_time": "2025-10-20T04:15:38.146280Z"
    }
   },
   "cell_type": "code",
   "source": [
    "# import necessary libraries\n",
    "from __future__ import annotations\n",
    "from datetime import datetime, timedelta, timezone\n",
    "from typing import Any\n",
    "\n",
    "import os\n",
    "import finnhub\n",
    "\n",
    "class EarningsCalendarProvider:\n",
    "    \"\"\"\n",
    "    Earnings date lookup with sensible fallbacks.\n",
    "    Free Tier: 1 month of historical earnings and new updates...\n",
    "\n",
    "    Order of operations:\n",
    "      Try an optional user-supplied provider function (if given).\n",
    "\n",
    "    A \"provider function\" should be:  (ticker: str, now_utc: datetime, lookahead_days: int) -> Iterable[datetime]\n",
    "    It returns one or more candidate datetimes (past or future). We'll pick the next upcoming one.\n",
    "    \"\"\"\n",
    "\n",
    "    def __init__(\n",
    "            self,\n",
    "            api_key: str,\n",
    "            ticker: str,\n",
    "            lookahead_days: int = 120,\n",
    "            prefer_window: bool = True,\n",
    "    ):\n",
    "        self.client = finnhub.Client(api_key=api_key)\n",
    "        self.lookahead_days = int(lookahead_days)\n",
    "        self.ticker = ticker\n",
    "        self.prefer_window = prefer_window  # prefer a date within lookahead window if multiple upcoming exist\n",
    "\n",
    "    # ---------- public API ----------\n",
    "    def future_earnings(self) -> Any | None:\n",
    "        try:\n",
    "            now = datetime.now(timezone.utc)\n",
    "            window_end = now + timedelta(days=self.lookahead_days)\n",
    "\n",
    "            # user provider\n",
    "            dt = self.client.earnings_calendar(_from=now, to=window_end, symbol=self.ticker, international=False)\n",
    "            if dt:\n",
    "                return dt\n",
    "        except Exception as e:\n",
    "            print(\"Error fetching next_earnings error.\", repr(e))\n",
    "\n",
    "ct = EarningsCalendarProvider(ticker=\"AAPL\", api_key=\"api_key_here\")\n",
    "calendar = ct.future_earnings()\n",
    "print(f\"Future earnings calendar: {calendar}\")\n",
    "print(calendar)"
   ],
   "id": "72e86cebf2aa1de7",
   "outputs": [
    {
     "name": "stdout",
     "output_type": "stream",
     "text": [
      "Future earnings calendar: {'earningsCalendar': [{'date': '2026-01-28', 'epsActual': None, 'epsEstimate': 2.5411, 'hour': 'amc', 'quarter': 1, 'revenueActual': None, 'revenueEstimate': 133684531371, 'symbol': 'AAPL', 'year': 2026}, {'date': '2025-10-30', 'epsActual': None, 'epsEstimate': 1.7924, 'hour': 'amc', 'quarter': 4, 'revenueActual': None, 'revenueEstimate': 103706233519, 'symbol': 'AAPL', 'year': 2025}]}\n",
      "{'earningsCalendar': [{'date': '2026-01-28', 'epsActual': None, 'epsEstimate': 2.5411, 'hour': 'amc', 'quarter': 1, 'revenueActual': None, 'revenueEstimate': 133684531371, 'symbol': 'AAPL', 'year': 2026}, {'date': '2025-10-30', 'epsActual': None, 'epsEstimate': 1.7924, 'hour': 'amc', 'quarter': 4, 'revenueActual': None, 'revenueEstimate': 103706233519, 'symbol': 'AAPL', 'year': 2025}]}\n"
     ]
    }
   ],
   "execution_count": 1
  }
 ],
 "metadata": {
  "kernelspec": {
   "name": "python3",
   "language": "python",
   "display_name": "Python 3 (ipykernel)"
  }
 },
 "nbformat": 4,
 "nbformat_minor": 5
}
