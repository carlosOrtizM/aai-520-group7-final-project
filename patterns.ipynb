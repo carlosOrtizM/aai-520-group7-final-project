{
 "cells": [
  {
   "metadata": {},
   "cell_type": "markdown",
   "source": "# Assignment 5.1 - Prompt Engineering",
   "id": "3b4775b7c44eae31"
  },
  {
   "metadata": {},
   "cell_type": "markdown",
   "source": [
    "<h1>Prompting Workflows</h1>\n",
    "<p>So we where expected to simulate iterative dialouges with an Llm with the goal of \"solving a complex financial problem using advanced prompt engineering techniques in Python\". This dialogue with the LLM was to be structured in the form of Chain of Thought (CoT) prompting, Self-Consistency Chain of Thought (SC-CoT) prompting, and Few-Shot prompting workflows.</p>\n",
    "<p>I went ahead and implemented similar LangGraph workflows that lead the Llm interactions through this specific processes.</p>\n",
    "<p>Referenced: https://langchain-ai.github.io/langgraph/tutorials/workflows/</p>"
   ],
   "id": "dd843f1812341309"
  },
  {
   "metadata": {},
   "cell_type": "markdown",
   "source": [
    "<h3 style=\"text-align: center;\">Chain-of-Thought / Prompt chaining</h3>\n",
    "\n",
    "<img\n",
    "    style=\"display: block;\n",
    "           margin-left: auto;\n",
    "           margin-right: auto;\n",
    "           width: 30%;\"\n",
    "    src=\"https://www.promptingguide.ai/_next/image?url=%2F_next%2Fstatic%2Fmedia%2Fcot.1933d9fe.png&w=1080&q=75\"\n",
    "    alt=\"1\">\n",
    "</img>\n",
    "\n",
    "<img\n",
    "    style=\"display: block;\n",
    "           margin-left: auto;\n",
    "           margin-right: auto;\n",
    "           width: 30%;\"\n",
    "    src=\"https://langchain-ai.github.io/langgraph/tutorials/workflows/img/augmented_llm.png\"\n",
    "    alt=\"2\">\n",
    "</img>\n",
    "\n",
    "<p style=\"text-align: center;\">I.e. <i>complex reasoning capabilities through intermediate reasoning steps</i></p>"
   ],
   "id": "1316f01989dadf6d"
  },
  {
   "metadata": {
    "ExecuteTime": {
     "end_time": "2025-10-11T23:10:21.883370Z",
     "start_time": "2025-10-11T23:10:21.813840Z"
    }
   },
   "cell_type": "code",
   "source": [
    "# model\n",
    "from langchain_ollama import ChatOllama\n",
    "\n",
    "llm = ChatOllama(model=\"llama3.2:latest\", temperature=0.2)"
   ],
   "id": "742d2b82ef2b5219",
   "outputs": [],
   "execution_count": 48
  },
  {
   "metadata": {
    "ExecuteTime": {
     "end_time": "2025-10-11T23:10:22.927023Z",
     "start_time": "2025-10-11T23:10:22.920099Z"
    }
   },
   "cell_type": "code",
   "source": [
    "# Schema for structured output\n",
    "\n",
    "#State definition. couldn't get the pydantic model working...\n",
    "\n",
    "# class PydanticOutputState(BaseModel):\n",
    "#    final_amount: float = Field(None, description=\"The final amount in the investment account.\")\n",
    "\n",
    "from langgraph.graph import MessagesState\n",
    "# messages + structured output\n",
    "class State(MessagesState):\n",
    "    final_amount: float\n",
    "\n",
    "# Augment the LLM with schema for structured output\n",
    "#structured_llm = llm.with_structured_output(State)"
   ],
   "id": "11f459bd9174e2dd",
   "outputs": [],
   "execution_count": 49
  },
  {
   "metadata": {
    "ExecuteTime": {
     "end_time": "2025-10-11T23:47:01.142090Z",
     "start_time": "2025-10-11T23:47:01.126450Z"
    }
   },
   "cell_type": "code",
   "source": [
    "from langchain_core.messages import HumanMessage\n",
    "# Node & Tool definition\n",
    "\n",
    "from typing import List\n",
    "def final_amount_calculator(annual_returns: List[int], fixed_fee: float, tax_rate: float) -> float:\n",
    "    \"\"\"Calculate the final amount in an investment account given annual returnes,\n",
    "    tax rate on gains, and fixed fees (costs)\n",
    "    \"\"\"\n",
    "    final_amount = sum(annual_returns)*(1-tax_rate)-fixed_fee\n",
    "    return final_amount\n",
    "\n",
    "def query_or_respond(state: MessagesState):\n",
    "    \"\"\"Generate tool call for retrieval.\"\"\"\n",
    "    llm_with_tools = llm.bind_tools([final_amount_calculator])\n",
    "    tool_call = llm_with_tools.invoke(state[\"messages\"])\n",
    "    # MessagesState appends messages to state instead of overwriting\n",
    "    return {\"messages\": [tool_call]}\n",
    "\n",
    "from langgraph.prebuilt import ToolNode\n",
    "tools = ToolNode([final_amount_calculator])\n",
    "\n",
    "def generate_response(state: MessagesState):\n",
    "    \"\"\"Generate answer. based on the calculated final amount in the investment account.\"\"\"\n",
    "    # Get generated ToolMessages\n",
    "    recent_tool_messages = []\n",
    "    for message in reversed(state[\"messages\"]):\n",
    "        if message.type == \"tool\":\n",
    "            recent_tool_messages.append(message)\n",
    "        else:\n",
    "            break\n",
    "    tool_messages = recent_tool_messages[::-1]\n",
    "\n",
    "    # Format into prompt (stateless, just the tool call value.\n",
    "    final_amount = \"\\n\\n\".join(answer.content for answer in tool_messages)\n",
    "    system_message_content = (\n",
    "        f\"You are a Financial Advisor in a fictional world. Provide an explanation to the end user about the final amount in his investment account, which happens to be {final_amount}. Be sure to include a lovely goodbye. Be concise, two paragraphs maximum\"\n",
    "        \"\\n\\n\"\n",
    "    )\n",
    "\n",
    "    #IGNORE - BEGIN\n",
    "    not_AI_message = (\"\\n\\n\"    \"------------------------------------------------------------------------------------------------------\"\n",
    "        f\"The calculated final amount in an investments account is {final_amount}.\"\n",
    "        \"It's me responding since the Llm has guardrails or something that sometimes hinder the final response... LLM BELOW\"\n",
    "    \"------------------------------------------------------------------------------------------------------\"\n",
    "    \"\\n\\n\")\n",
    "    #IGNORE - END\n",
    "\n",
    "    # Run the final generative prompt, with all the context provided.\n",
    "    response = llm.invoke(system_message_content)\n",
    "    response.content = (not_AI_message + response.content)\n",
    "    return {\"messages\": [response]}"
   ],
   "id": "d4c9f5beef4f8de9",
   "outputs": [],
   "execution_count": 93
  },
  {
   "metadata": {
    "ExecuteTime": {
     "end_time": "2025-10-11T23:47:04.488805Z",
     "start_time": "2025-10-11T23:47:04.200520Z"
    }
   },
   "cell_type": "code",
   "source": [
    "from langgraph.graph import StateGraph, START, END\n",
    "\n",
    "#we initialize our langgraph\n",
    "graph = StateGraph(State)\n",
    "graph.add_node(query_or_respond)\n",
    "graph.add_node(tools)\n",
    "graph.add_node(generate_response)\n",
    "\n",
    "graph.add_edge(START, \"query_or_respond\")\n",
    "graph.add_edge(\"query_or_respond\", \"tools\")\n",
    "graph.add_edge(\"tools\", \"generate_response\")\n",
    "graph.add_edge(\"generate_response\", END)\n",
    "\n",
    "graph = graph.compile()\n",
    "from IPython.display import Image, display\n",
    "display(Image(graph.get_graph().draw_mermaid_png()))\n"
   ],
   "id": "919a676b2a519088",
   "outputs": [
    {
     "data": {
      "image/png": "[encoded data removed]",
      "text/plain": [
       "<IPython.core.display.Image object>"
      ]
     },
     "metadata": {},
     "output_type": "display_data",
     "jetTransient": {
      "display_id": null
     }
    }
   ],
   "execution_count": 94
  },
  {
   "metadata": {
    "ExecuteTime": {
     "end_time": "2025-10-11T23:47:40.069178Z",
     "start_time": "2025-10-11T23:47:06.510035Z"
    }
   },
   "cell_type": "code",
   "source": [
    "prompt = HumanMessage(\"Hypothetically, how much did I make if I earned [250k, 231k, 50k, 1M, 550k, 67k] in the last couple of years, paying 50k a month on stuff, and tax_rates are at 23%.\")\n",
    "state = graph.invoke({\"messages\": f\"{prompt}\"})\n",
    "\n",
    "for m in state['messages']:\n",
    "    m.pretty_print()"
   ],
   "id": "a59202716f041f34",
   "outputs": [
    {
     "name": "stdout",
     "output_type": "stream",
     "text": [
      "================================\u001B[1m Human Message \u001B[0m=================================\n",
      "\n",
      "content='Hypothetically, how much did I make if I earned [250k, 231k, 50k, 1M, 550k, 67k] in the last couple of years, paying 50k a month on stuff, and tax_rates are at 23%.' additional_kwargs={} response_metadata={}\n",
      "==================================\u001B[1m Ai Message \u001B[0m==================================\n",
      "Tool Calls:\n",
      "  final_amount_calculator (3e6f5e33-68c9-4dc9-ac1c-404f84f228af)\n",
      " Call ID: 3e6f5e33-68c9-4dc9-ac1c-404f84f228af\n",
      "  Args:\n",
      "    annual_returns: [250000, 231000, 50000, 1000000, 550000, 67000]\n",
      "    fixed_fee: 50000\n",
      "    tax_rate: 0.23\n",
      "=================================\u001B[1m Tool Message \u001B[0m=================================\n",
      "Name: final_amount_calculator\n",
      "\n",
      "1603960.0\n",
      "==================================\u001B[1m Ai Message \u001B[0m==================================\n",
      "\n",
      "\n",
      "\n",
      "------------------------------------------------------------------------------------------------------The calculated final amount in an investments account is 1603960.0.It's me responding since the Llm has guardrails or something that sometimes hinder the final response... LLM BELOW------------------------------------------------------------------------------------------------------\n",
      "\n",
      "Good day! I'm delighted to provide you with the final balance of your investment account. After careful analysis and consideration of market trends, interest rates, and diversification strategies, we've arrived at a total of 1603960.0 in your account. This amount represents a significant return on your initial investment, considering the time horizon and risk tolerance you specified.\n",
      "\n",
      "I want to take this opportunity to express my gratitude for entrusting me with your financial well-being. It's been an absolute pleasure working with you, and I'm thrilled to have played a role in helping you achieve your financial goals. As we part ways, I wish you all the best on your future endeavors. May your investments continue to flourish, and may your financial journey be filled with peace of mind and prosperity. Farewell for now, and happy investing!\n"
     ]
    }
   ],
   "execution_count": 95
  },
  {
   "metadata": {},
   "cell_type": "markdown",
   "source": [
    "<h3 style=\"text-align: center;\">Self-Consistency Chain of Thought Prompting / Parallelization + Prompt chaining + Evaluator-Optimizer</h3>\n",
    "\n",
    "<img\n",
    "    style=\"display: block;\n",
    "           margin-left: auto;\n",
    "           margin-right: auto;\n",
    "           width: 30%;\"\n",
    "    src=\"https://langchain-ai.github.io/langgraph/tutorials/workflows/img/augmented_llm.png\"\n",
    "    alt=\"1\">\n",
    "</img>\n",
    "\n",
    "<img\n",
    "    style=\"display: block;\n",
    "           margin-left: auto;\n",
    "           margin-right: auto;\n",
    "           width: 30%;\"\n",
    "    src=\"https://langchain-ai.github.io/langgraph/tutorials/workflows/img/parallelization.png\"\n",
    "    alt=\"2\">\n",
    "</img>\n",
    "\n",
    "<img\n",
    "    style=\"display: block;\n",
    "           margin-left: auto;\n",
    "           margin-right: auto;\n",
    "           width: 30%;\"\n",
    "    src=\"https://langchain-ai.github.io/langgraph/tutorials/workflows/img/evaluator_optimizer.png\"\n",
    "    alt=\"3\">\n",
    "\n",
    "<p style=\"text-align: center;\">I.e. <i>sample multiple, diverse reasoning paths through few-shot CoT, and use the generations to select the most consistent answer.</i></p>"
   ],
   "id": "b2700308f13f6f06",
   "attachments": {
    "7115cf9b-cee5-46d1-a798-8a982b4a9021.png": {
     "image/png": "[encoded data removed]"
    }
   }
  },
  {
   "metadata": {
    "ExecuteTime": {
     "end_time": "2025-10-12T23:02:07.382264Z",
     "start_time": "2025-10-12T23:02:07.310222Z"
    }
   },
   "cell_type": "code",
   "source": [
    "# model\n",
    "from langchain_ollama import ChatOllama\n",
    "\n",
    "llm = ChatOllama(model=\"llama3.2:latest\", temperature=0.2)"
   ],
   "id": "fcbac12a439b6416",
   "outputs": [],
   "execution_count": 407
  },
  {
   "metadata": {
    "ExecuteTime": {
     "end_time": "2025-10-12T23:02:08.738587Z",
     "start_time": "2025-10-12T23:02:08.724984Z"
    }
   },
   "cell_type": "code",
   "source": [
    "from pydantic import Field\n",
    "from langgraph.graph import MessagesState\n",
    "from typing import Annotated, List, Literal\n",
    "import operator\n",
    "\n",
    "# Schema for structured output\n",
    "#State definitions...\n",
    "\n",
    "class Calculator(BaseModel):\n",
    "    financial_information: list[float] = Field(description=\"The financial gains recorded, used to make the corresponding financial analysis.\")\n",
    "    tax_rate: float = Field(description=\"The tax rate that is going to be deducted from the financial gains.\")\n",
    "    fixed_fee: float = Field(description=\"The annual fixed costs that need to de deducted.\")\n",
    "    method_of_calculation: Literal[\"Reflection\", \"Math\"] = Field(description=\"Chosen method to perform the necessary mathematical operations.\")\n",
    "    final_amount: float = Field(description=\"The calculated final amount in the investment account that must be computed by the LLM..\")\n",
    "\n",
    "# messages + structured output\n",
    "class FinancialReport(BaseModel):\n",
    "    calculators: List[Calculator] = Field(description=\"Group of calculators that all arrive at a calculated final amount.\")\n",
    "    voted_final_amount: float\n",
    "\n",
    "# Internal states (dynamic)\n",
    "# Augment the LLM with schema for structured output\n",
    "planner = llm.with_structured_output(FinancialReport)"
   ],
   "id": "26d33b7de98c57fe",
   "outputs": [],
   "execution_count": 408
  },
  {
   "metadata": {
    "ExecuteTime": {
     "end_time": "2025-10-12T23:02:10.806030Z",
     "start_time": "2025-10-12T23:02:10.777326Z"
    }
   },
   "cell_type": "code",
   "source": [
    "from langchain_core.messages import HumanMessage, SystemMessage\n",
    "from langgraph.types import Send\n",
    "from typing import List, TypedDict\n",
    "\n",
    "# Node & Tool definition\n",
    "\n",
    "class State(MessagesState):\n",
    "    financial_investments: str # the necessary data inputs\n",
    "    calculators: list[Calculator] # list of calculators\n",
    "    completed_calculations: Annotated[\n",
    "        list, operator.add\n",
    "    ] # Shared key for the calculators to write to\n",
    "    voted_final_amount: str # final financial report\n",
    "    final_financial_report: str\n",
    "\n",
    "# Worker state\n",
    "class WorkerState(TypedDict):\n",
    "    calculator: Calculator\n",
    "    completed_calculations: Annotated[list, operator.add] # keys must match with other State!\n",
    "\n",
    "# Nodes / Tools\n",
    "\n",
    "def orchestrator(state: MessagesState):\n",
    "    \"\"\"Orchestrator that spawns multiple different calculators so it can arrive to a correct calculated\n",
    "        amount in an investment account given the corresponding financial data. The Orchestrator (you) do NOT attempt to make the calculation. Merely spawn the orchestrators.\n",
    "    \"\"\"\n",
    "\n",
    "    # Generate queries...\n",
    "    calculators = planner.invoke(\n",
    "        [\n",
    "            SystemMessage(content=\"Generate a number of calculators that will attempt to calculate the final amount of money in a financial account given complimentary financial data. You also have to assign the calculation method to each of the spawned calculators. The available calculation methods are either Reflection or Math.  The Orchestrator (you) do NOT attempt to make the calculation. Merely spawn the orchestrators.\"),\n",
    "            HumanMessage(content=f\"Give each worker the financial data needed: {state[\"messages\"]}.\"),\n",
    "        ]\n",
    "    )\n",
    "\n",
    "    return {\"calculators\": calculators.calculators, \"financial_investments\": state[\"messages\"][-1].content}\n",
    "\n",
    "def final_amount_calculator(annual_returns: List[int], fixed_fee: float, tax_rate: float) -> float:\n",
    "    \"\"\"Calculate the final amount in an investment account given annual returns,\n",
    "    tax rate on gains, and fixed fees (costs)\n",
    "    \"\"\"\n",
    "    final_amount = sum(annual_returns)*(1-tax_rate)-fixed_fee\n",
    "    return final_amount\n",
    "\n",
    "def llm_tool_call(state: MessagesState):\n",
    "    \"\"\"Generate tool call for retrieval.\n",
    "    \"\"\"\n",
    "\n",
    "    try:\n",
    "        print(f\"LLM tool call instantiated. Raising the call.\")\n",
    "\n",
    "        # Generate tool call for retrieval. Should write in docstring?\n",
    "        llm_with_tools = llm.bind_tools([final_amount_calculator])\n",
    "        calculation = llm_with_tools.invoke(state[\"messages\"])\n",
    "\n",
    "        # Write the final amount that was calculated.\n",
    "        return {\"messages\": [calculation]}\n",
    "\n",
    "    except Exception as e:\n",
    "        print(f\"Error {e} when raising the tool call.\")\n",
    "\n",
    "from langgraph.prebuilt import ToolNode\n",
    "tools = ToolNode([final_amount_calculator])\n",
    "\n",
    "def llm_call(state: WorkerState):\n",
    "    \"\"\"Worker uses the available financial_information to calculate the money in the investment account Returns a float number with the answer.\n",
    "    \"\"\"\n",
    "\n",
    "    print(f\"LLM call instantiated.\")\n",
    "\n",
    "    calculation = llm.invoke(\n",
    "        [\n",
    "            SystemMessage(\n",
    "                content=\"Calculate the final amount of money in a financial account given the following financial data.\"\n",
    "            ),\n",
    "            HumanMessage(\n",
    "                content=f\"Here is the available financial data: {state['calculator']}. MANDATORY TO RETURN ONLY the calculated final amount in the account as a FLOAT number. Do the calculations and return the estimated result.\"\n",
    "            ),\n",
    "        ]\n",
    "    )\n",
    "\n",
    "    # Write the final amount that was calculated.\n",
    "    return {\"completed_calculations\": [calculation.content]}\n",
    "\n",
    "def quorum(state: State):\n",
    "    \"\"\"Comparison of all the provided answers, if one is repeated more than all others it is chosen.\n",
    "    Else 404 (couldn't arrive to a satisfactory conclusion)...\n",
    "    \"\"\"\n",
    "\n",
    "    final_calculations_stringed = state[\"completed_calculations\"]\n",
    "    final_calculations = []\n",
    "\n",
    "    # List of completed GenAI calculations. Didn't really try to find an easier way to do it...\n",
    "    for calculation in final_calculations_stringed:\n",
    "        try:\n",
    "            string_float = float(calculation)\n",
    "            print(string_float)\n",
    "        except ValueError:\n",
    "            # Handle the exception\n",
    "            string_float = \"\"\n",
    "        finally:\n",
    "            if isinstance(string_float, float):\n",
    "                final_calculations.append(string_float)\n",
    "\n",
    "    recent_tool_messages = []\n",
    "\n",
    "    for message in reversed(state[\"messages\"]):\n",
    "        if message.type == \"tool\":\n",
    "            recent_tool_messages.append(message)\n",
    "        else:\n",
    "            break\n",
    "    tool_messages = recent_tool_messages[::-1]\n",
    "\n",
    "    # Format into prompt (stateless, just the tool call value.\n",
    "    final_amount = \"\\n\\n\".join(answer.content for answer in tool_messages)\n",
    "\n",
    "    final_calculations.append(float(final_amount))\n",
    "\n",
    "    for calculation in final_calculations:\n",
    "        print(\"\\n\\n\")\n",
    "        print(\"-----------------------------------------------------------------------------------------\")\n",
    "        print(f\"{calculation}\")\n",
    "        print(\"-----------------------------------------------------------------------------------------\")\n",
    "        print(\"\\n\\n\")\n",
    "\n",
    "    # searched for a majority counter algorithm...  https://codelucky.com/moores-majority-vote/\n",
    "    def majority_element(nums):\n",
    "        # Phase 1: Find candidate\n",
    "        count = 0\n",
    "        candidate = None\n",
    "\n",
    "        for num in nums:\n",
    "            if count == 0:\n",
    "                candidate = num\n",
    "            count += (1 if num == candidate else -1)\n",
    "\n",
    "        # Phase 2: Verify candidate\n",
    "        if nums.count(candidate) > len(nums) // 2:\n",
    "            return candidate\n",
    "        return None\n",
    "\n",
    "    winner_calculation = majority_element(final_calculations)\n",
    "\n",
    "    return {\"voted_final_amount\": winner_calculation}\n",
    "\n",
    "# Conditional edge function to create llm_call workers that each make their own calculation\n",
    "def assign_workers(state: State):\n",
    "    \"\"\"Assign a worker to each calculation that must be computed.\"\"\"\n",
    "\n",
    "    sends = []\n",
    "\n",
    "    # Math tool calls will have to be handled separately (trouble running them in parallel)\n",
    "    for c in state[\"calculators\"]:\n",
    "        if c.method_of_calculation != \"Math\":\n",
    "            sends.append(Send(\"llm_call\", {\"calculator\": c}))\n",
    "\n",
    "    return sends\n",
    "\n",
    "\n",
    "def generate_response(state: State):\n",
    "    \"\"\"Generate answer. based on the calculated final amount in the investment account.\"\"\"\n",
    "\n",
    "    system_message_content = (\n",
    "        f\"You are a Financial Advisor in a fictional world. Provide an explanation to the end user about the\"\n",
    "        f\"final amount in his investment account, which happens to be {state['voted_final_amount']}. Be sure to include a lovely goodbye. Be concise, two paragraphs maximum\"\n",
    "        \"\\n\\n\"\n",
    "    )\n",
    "\n",
    "    # Run the final generative prompt, with all the context provided.\n",
    "    response = llm.invoke(system_message_content)\n",
    "    return {\"final_financial_report\": response}\n"
   ],
   "id": "eefe4eb9bcf12ec3",
   "outputs": [],
   "execution_count": 409
  },
  {
   "metadata": {
    "ExecuteTime": {
     "end_time": "2025-10-12T23:02:16.697746Z",
     "start_time": "2025-10-12T23:02:16.396103Z"
    }
   },
   "cell_type": "code",
   "source": [
    "from langgraph.graph import StateGraph, START, END\n",
    "\n",
    "#we initialize our langgraph\n",
    "\n",
    "# Build workflow\n",
    "orchestrator_graph = StateGraph(State)\n",
    "\n",
    "# Add the nodes\n",
    "orchestrator_graph.add_node(\"orchestrator\", orchestrator)\n",
    "orchestrator_graph.add_node(\"tools\", tools)\n",
    "orchestrator_graph.add_node(\"llm_tool_call\", llm_tool_call)\n",
    "orchestrator_graph.add_node(\"llm_call\", llm_call)\n",
    "orchestrator_graph.add_node(\"quorum\", quorum)\n",
    "orchestrator_graph.add_node(\"generate_response\", generate_response)\n",
    "\n",
    "\n",
    "# Add edges to connect nodes... #spawned gates change to node\n",
    "orchestrator_graph.add_edge(START, \"orchestrator\")\n",
    "orchestrator_graph.add_edge(START, \"llm_tool_call\")\n",
    "orchestrator_graph.add_conditional_edges(\n",
    "    \"orchestrator\", assign_workers, [\"llm_call\"])\n",
    "orchestrator_graph.add_edge(\"llm_call\", \"quorum\")\n",
    "orchestrator_graph.add_edge(\"llm_tool_call\", \"tools\")\n",
    "orchestrator_graph.add_edge(\"tools\", \"quorum\")\n",
    "orchestrator_graph.add_edge(\"quorum\", \"generate_response\")\n",
    "orchestrator_graph.add_edge(\"generate_response\", END)\n",
    "\n",
    "# Compile the workflow\n",
    "orchestrator_graph = orchestrator_graph.compile()\n",
    "\n",
    "from IPython.display import Image, display\n",
    "display(Image(orchestrator_graph.get_graph().draw_mermaid_png()))\n"
   ],
   "id": "f8527ec3d2559e7c",
   "outputs": [
    {
     "data": {
      "image/png": "[encoded data removed]",
      "text/plain": [
       "<IPython.core.display.Image object>"
      ]
     },
     "metadata": {},
     "output_type": "display_data",
     "jetTransient": {
      "display_id": null
     }
    }
   ],
   "execution_count": 410
  },
  {
   "metadata": {
    "ExecuteTime": {
     "end_time": "2025-10-12T23:05:55.338475Z",
     "start_time": "2025-10-12T23:02:19.560681Z"
    }
   },
   "cell_type": "code",
   "source": [
    "prompt = HumanMessage(\"Hypothetically, how much did I make if I earned [250k, 231k, 50k, 1M, 550k, 67k] in the last couple of years, paying 50k a month on stuff, and tax_rates are at 23%.\")\n",
    "# messages are necessary for tool calls via Tool nodes\n",
    "state = orchestrator_graph.invoke({\"messages\": f\"{prompt}\"})\n",
    "\n",
    "#state = orchestrator_graph.invoke({\"financial_investments\": f\"{prompt}\"}, {\"messages\": f\"{prompt}\"})"
   ],
   "id": "79d72db826a71d19",
   "outputs": [
    {
     "name": "stdout",
     "output_type": "stream",
     "text": [
      "LLM tool call instantiated. Raising the call.\n",
      "LLM call instantiated.LLM call instantiated.\n",
      "LLM call instantiated.\n",
      "\n",
      "\n",
      "\n",
      "\n",
      "-----------------------------------------------------------------------------------------\n",
      "1603960.0\n",
      "-----------------------------------------------------------------------------------------\n",
      "\n",
      "\n",
      "\n"
     ]
    }
   ],
   "execution_count": 411
  },
  {
   "metadata": {
    "ExecuteTime": {
     "end_time": "2025-10-12T23:14:34.870596Z",
     "start_time": "2025-10-12T23:14:34.865071Z"
    }
   },
   "cell_type": "code",
   "source": [
    "for i in state[\"completed_calculations\"]:\n",
    "    print(i)\n",
    "    print(\"\\n\\n\")\n",
    "    print(\"\\n\\n\")\n"
   ],
   "id": "ee66e029f1081205",
   "outputs": [
    {
     "name": "stdout",
     "output_type": "stream",
     "text": [
      "```python\n",
      "def calculate_final_amount(financial_information, tax_rate, fixed_fee, method_of_calculation):\n",
      "    \"\"\"\n",
      "    Calculate the final amount of money in a financial account.\n",
      "\n",
      "    Args:\n",
      "        financial_information (list): A list containing the initial amount and subsequent transactions.\n",
      "        tax_rate (float): The tax rate to be applied.\n",
      "        fixed_fee (float): A fixed fee to be deducted.\n",
      "        method_of_calculation (str): The method of calculation. Currently only 'Reflection' is supported.\n",
      "\n",
      "    Returns:\n",
      "        float: The final calculated amount in the account.\n",
      "    \"\"\"\n",
      "\n",
      "    # Initialize the initial amount\n",
      "    current_amount = financial_information[0]\n",
      "\n",
      "    # Apply each transaction to the current amount\n",
      "    for i in range(1, len(financial_information)):\n",
      "        if method_of_calculation == 'Reflection':\n",
      "            # For reflection method, we assume that all transactions are applied immediately\n",
      "            current_amount += financial_information[i]\n",
      "        else:\n",
      "            raise ValueError(\"Only 'Reflection' method is currently supported\")\n",
      "\n",
      "    # Calculate the tax amount\n",
      "    tax_amount = current_amount * tax_rate\n",
      "\n",
      "    # Apply the fixed fee\n",
      "    current_amount -= fixed_fee\n",
      "\n",
      "    # Subtract the tax amount from the current amount\n",
      "    current_amount -= tax_amount\n",
      "\n",
      "    return current_amount\n",
      "\n",
      "\n",
      "# Example usage:\n",
      "financial_information = [250000.0, 231000.0, 50000.0, 1000000.0, 550000.0, 67000.0]\n",
      "tax_rate = 0.23\n",
      "fixed_fee = 50000.0\n",
      "\n",
      "final_amount = calculate_final_amount(financial_information, tax_rate, fixed_fee)\n",
      "print(final_amount)\n",
      "```\n",
      "\n",
      "This code defines a function `calculate_final_amount` that takes the financial information, tax rate, and fixed fee as inputs. It applies each transaction to the current amount using the reflection method, calculates the tax amount, applies the fixed fee, and finally returns the final calculated amount.\n",
      "\n",
      "The example usage demonstrates how to call this function with the provided financial data and print the result.\n",
      "\n",
      "\n",
      "\n",
      "\n",
      "\n",
      "\n",
      "```python\n",
      "def calculate_final_amount(financial_information, tax_rate, fixed_fee):\n",
      "    \"\"\"\n",
      "    Calculate the final amount of money in a financial account.\n",
      "\n",
      "    Args:\n",
      "        financial_information (list): A list of financial data.\n",
      "        tax_rate (float): The tax rate to be applied.\n",
      "        fixed_fee (float): A fixed fee to be deducted.\n",
      "\n",
      "    Returns:\n",
      "        float: The calculated final amount in the account.\n",
      "    \"\"\"\n",
      "\n",
      "    # Initialize the total amount with the first value in the financial information\n",
      "    total_amount = financial_information[0]\n",
      "\n",
      "    # Iterate over the rest of the values in the financial information\n",
      "    for i in range(1, len(financial_information)):\n",
      "        # Add each value to the total amount\n",
      "        total_amount += financial_information[i]\n",
      "\n",
      "    # Calculate the tax amount by multiplying the total amount with the tax rate\n",
      "    tax_amount = total_amount * tax_rate\n",
      "\n",
      "    # Subtract the fixed fee from the total amount\n",
      "    final_amount = total_amount - fixed_fee - tax_amount\n",
      "\n",
      "    return final_amount\n",
      "\n",
      "\n",
      "# Define the available financial data and parameters\n",
      "financial_information = [250000.0, 231000.0, 50000.0, 1000000.0, 550000.0, 67000.0]\n",
      "tax_rate = 0.23\n",
      "fixed_fee = 50000.0\n",
      "\n",
      "# Calculate the final amount using the specified method of calculation (Reflection)\n",
      "final_amount = calculate_final_amount(financial_information, tax_rate, fixed_fee)\n",
      "\n",
      "print(final_amount)\n",
      "```\n",
      "\n",
      "This code defines a function `calculate_final_amount` that takes in the financial information and parameters as arguments. It calculates the total amount by summing up all values in the financial information list. Then it applies the tax rate to find the tax amount and subtracts both the fixed fee and the tax amount from the total amount to get the final result.\n",
      "\n",
      "When you run this code, it will print out the calculated final amount in the account as a float number.\n",
      "\n",
      "\n",
      "\n",
      "\n",
      "\n",
      "\n",
      "```python\n",
      "def calculate_final_amount(financial_information, tax_rate, fixed_fee):\n",
      "    \"\"\"\n",
      "    Calculate the final amount of money in a financial account.\n",
      "\n",
      "    Args:\n",
      "        financial_information (list): A list containing the initial amount and subsequent transactions.\n",
      "        tax_rate (float): The tax rate to be applied.\n",
      "        fixed_fee (float): A fixed fee to be deducted.\n",
      "\n",
      "    Returns:\n",
      "        float: The calculated final amount in the account.\n",
      "    \"\"\"\n",
      "\n",
      "    # Initialize the total amount with the first financial information\n",
      "    total_amount = financial_information[0]\n",
      "\n",
      "    # Apply the fixed fee\n",
      "    total_amount -= fixed_fee\n",
      "\n",
      "    # Iterate over the remaining financial information\n",
      "    for amount in financial_information[1:]:\n",
      "        # Subtract each transaction from the total amount\n",
      "        total_amount -= amount\n",
      "\n",
      "    # Calculate the tax\n",
      "    tax = total_amount * tax_rate\n",
      "\n",
      "    # Subtract the tax from the total amount\n",
      "    total_amount -= tax\n",
      "\n",
      "    return round(total_amount, 2)\n",
      "\n",
      "\n",
      "# Define the available financial data\n",
      "financial_information = [250000.0, 231000.0, 50000.0, 1000000.0, 550000.0, 67000.0]\n",
      "tax_rate = 0.23\n",
      "fixed_fee = 50000.0\n",
      "\n",
      "# Calculate and print the final amount\n",
      "final_amount = calculate_final_amount(financial_information, tax_rate, fixed_fee)\n",
      "print(final_amount)\n",
      "```\n",
      "\n",
      "This code defines a function `calculate_final_amount` that takes in the financial information, tax rate, and fixed fee as arguments. It calculates the total amount by subtracting each transaction from the initial amount, then applies the tax and fixed fee to get the final amount.\n",
      "\n",
      "The calculated final amount is then printed out. The result will be rounded to two decimal places for simplicity.\n",
      "\n",
      "\n",
      "\n",
      "\n",
      "\n",
      "\n"
     ]
    }
   ],
   "execution_count": 416
  },
  {
   "metadata": {},
   "cell_type": "markdown",
   "source": "<p> The GenAI minions spawned by the Orchestrator are \"working\". Yet are for a reason (could be a wrong docstring, wrong prompting, or passing the wrong parameters) they are not actually making the calculation but rather simply stating how one could make such a calculation. They create python functions on how to do it but don't actually do it (guardrails?). The workflow seems to be transitioning correctly, nonetheless.",
   "id": "e74102e94d2f462a"
  },
  {
   "metadata": {
    "ExecuteTime": {
     "end_time": "2025-10-12T23:12:27.058961Z",
     "start_time": "2025-10-12T23:12:27.052394Z"
    }
   },
   "cell_type": "code",
   "source": "state[\"voted_final_amount\"]",
   "id": "419bd4ea9e9c8e72",
   "outputs": [
    {
     "data": {
      "text/plain": [
       "1603960.0"
      ]
     },
     "execution_count": 412,
     "metadata": {},
     "output_type": "execute_result"
    }
   ],
   "execution_count": 412
  },
  {
   "metadata": {
    "ExecuteTime": {
     "end_time": "2025-10-12T23:12:29.259021Z",
     "start_time": "2025-10-12T23:12:29.252897Z"
    }
   },
   "cell_type": "code",
   "source": [
    "from IPython.display import Markdown\n",
    "Markdown(state[\"final_financial_report\"].content)"
   ],
   "id": "444b1dc116772277",
   "outputs": [
    {
     "data": {
      "text/plain": [
       "<IPython.core.display.Markdown object>"
      ],
      "text/markdown": "Good day! I'm pleased to report that your investment portfolio has reached a significant milestone. After careful analysis and monitoring of your assets, we're happy to inform you that your final amount in your investment account is $1,604,960.00.\n\nThis impressive result is a testament to the sound financial decisions you've made and our expert guidance throughout the journey. We're thrilled to have played a part in helping you achieve this outstanding outcome. As we part ways, I'd like to extend my sincerest appreciation for entrusting us with your financial well-being. It's been an absolute pleasure working with you, and I wish you all the best in your future endeavors. Until next time, farewell!"
     },
     "execution_count": 413,
     "metadata": {},
     "output_type": "execute_result"
    }
   ],
   "execution_count": 413
  },
  {
   "metadata": {},
   "cell_type": "markdown",
   "source": [
    "<h3> Additional commentaries</h3>\n",
    "<p>This particular workflow had an orchestrator create a couple of parallel tasks to be solved by Llms (failed to solve), and at the same time another independent node was executing a tool that attempted to solve the same problem (by means of tools). After all answers have been successfully created, we then had an Evaluator node pick the best answer. The choosing of the best answer was not up to the Llm, but rather the output of a majority voting algorithm. In this case it always went for the answer provided by the tool, as all other answers failed. We could set up a conditional edge to check if voted_final_answer==none, then it would have to go back through the calculation process. In the case our answer was less arbitrary, we could also leave the evaluating criteria and decision to the Llm.</p>"
   ],
   "id": "fe0d1623bc0db1e6"
  },
  {
   "metadata": {},
   "cell_type": "markdown",
   "source": [
    "<h3 style=\"text-align: center;\">Few-Shot Prompting (post-training fine-tuning?). In our case a persistent agent (in-memory, no DB) with and additional system prompt.</h3>\n",
    "\n",
    "<p style=\"text-align: center;\">I.e. <i>enable in-context learning where we provide demonstrations in the prompt to steer the model to better performance.</i></p>"
   ],
   "id": "4db0eb51bff4f9bd"
  },
  {
   "metadata": {
    "ExecuteTime": {
     "end_time": "2025-10-13T04:50:44.809618Z",
     "start_time": "2025-10-13T04:50:44.788451Z"
    }
   },
   "cell_type": "code",
   "source": [
    "from langchain_core.messages import ToolMessage\n",
    "from langchain.tools import tool\n",
    "# Agent implementation\n",
    "# https://docs.langchain.com/oss/python/langgraph/workflows-agents\n",
    "\n",
    "# Tools\n",
    "\n",
    "@tool\n",
    "def final_amount_calculator(annual_returns: List[int], fixed_fee: float, tax_rate: float) -> float:\n",
    "    \"\"\"Calculate the final amount in an investment account given annual returns,\n",
    "    tax rate on gains, and fixed fees (costs)\n",
    "    \"\"\"\n",
    "    final_amount = sum(annual_returns)*(1-tax_rate)-fixed_fee\n",
    "    return final_amount\n",
    "\n",
    "# Augment the LLM with tools\n",
    "tools = [final_amount_calculator]\n",
    "# dictionary that might be useful somewhere\n",
    "tools_by_name = {tool.name: tool for tool in tools}\n",
    "llm_with_tools = llm.bind_tools(tools)\n",
    "\n",
    "# Nodes\n",
    "\n",
    "def llm_call(state: MessagesState):\n",
    "    \"\"\"LLM decides whether to call a tool or not\"\"\"\n",
    "\n",
    "    return {\n",
    "        \"messages\": [\n",
    "            llm_with_tools.invoke(\n",
    "                [\n",
    "                    SystemMessage(\n",
    "                        content=\"You are a helpful assistant tasked with performing arithmetic on a set of inputs. For your operations it is important to remeber\"\n",
    "                                \"that tax_rates are at 23%.\"\n",
    "                    )\n",
    "                ]\n",
    "                + state[\"messages\"]\n",
    "            )\n",
    "        ]\n",
    "    }\n",
    "\n",
    "# alpha documentation... tool_node is now receiving a dict (Tool node is gone and Tool messages are a thing...)\n",
    "def tool_node(state: dict):\n",
    "    \"\"\"Performs the tool call\"\"\"\n",
    "\n",
    "    result = []\n",
    "    for tool_call in state[\"messages\"][-1].tool_calls:\n",
    "        tool = tools_by_name[tool_call[\"name\"]]\n",
    "        observation = tool.invoke(tool_call[\"args\"])\n",
    "        result.append(ToolMessage(content=observation, tool_call_id=tool_call[\"id\"]))\n",
    "    return {\"messages\": result}\n",
    "\n",
    "# instead of using the tool I could've gone ahead and queried another Llm instance to do the calculation itself and provided a couple of examples as system messages... pseudocode below\n",
    "\n",
    "#   def llm_calculator(state: MessagesState):\n",
    "#       \"\"\"Calculate the final amount in an investment account given annual returns,\n",
    "#           tax rate on gains, and fixed fees (costs)\"\"\"\n",
    "#\n",
    "#       # Augment the LLM with schema for structured output\n",
    "#       checker = llm.with_structured_output(FinancialCheck)  # where the schema makes sure the final_amount is a number\n",
    "#       response = checker.invoke(\n",
    "#           [\n",
    "#                   SystemMessage(\n",
    "#                       \"Few shot prompting. Examples....\"\n",
    "#                       If johnny blah blah blah\n",
    "#\n",
    "#                       \"\"\n",
    "#                   ),\n",
    "#                   HumanMessage(\n",
    "#                      content=\"Calculate blah blah blah.\"\n",
    "#                  ),\n",
    "#          ]\n",
    "#       return response\n",
    "#\n",
    "\n",
    "# messages + structured output\n",
    "class FinancialCheck(BaseModel):\n",
    "    decision: Literal[\"llm_call\", \"END\"] = Field(description=\"The next step in the routing process based on the previous calculation.\")\n",
    "\n",
    "# Conditional edge function to route to the tool node or end based upon whether the LLM made a tool call\n",
    "def should_continue(state: MessagesState) -> Literal[\"tool_node\", \"llm_call\", END]:\n",
    "    \"\"\"Decide if we should continue the loop or stop based upon whether the LLM made a tool call and whether the answer was deemed to be good enough or not.\"\"\"\n",
    "\n",
    "    messages = state[\"messages\"]\n",
    "    last_message = messages[-1]\n",
    "    # If the LLM makes a tool call, then perform an action\n",
    "    if last_message.tool_calls:\n",
    "        return \"tool_node\"\n",
    "    else:\n",
    "        # Augment the LLM with schema for structured output\n",
    "        checker = llm.with_structured_output(FinancialCheck)\n",
    "        response = checker.invoke(\n",
    "            [\n",
    "                    last_message,\n",
    "                    HumanMessage(\n",
    "                        content=\"Proof-read the response presented above. If it is missing something send it back to revision by replying <llm_call>.\"\n",
    "                                \"Else, send it forward in the workflow by replying <END>. Do not include the < > characters, or anything else.\"\n",
    "                    ),\n",
    "            ]\n",
    "        )\n",
    "        print(f\"Response {response.decision}\")\n",
    "        if str(response.decision) == \"END\":\n",
    "            print(\"Returning END.\")\n",
    "            return END\n",
    "        else:\n",
    "            return \"llm_call\""
   ],
   "id": "faa7cdcbc6a7c3a7",
   "outputs": [],
   "execution_count": 460
  },
  {
   "metadata": {
    "ExecuteTime": {
     "end_time": "2025-10-13T04:50:48.727103Z",
     "start_time": "2025-10-13T04:50:48.718205Z"
    }
   },
   "cell_type": "code",
   "source": [
    "# Build workflow\n",
    "from langgraph.checkpoint.memory import InMemorySaver\n",
    "from langchain_core.runnables import RunnableConfig\n",
    "\n",
    "agent_builder = StateGraph(MessagesState)\n",
    "\n",
    "# Add nodes\n",
    "agent_builder.add_node(\"llm_call\", llm_call)\n",
    "agent_builder.add_node(\"tool_node\", tool_node)\n",
    "\n",
    "# Add edges to connect nodes\n",
    "agent_builder.add_edge(START, \"llm_call\")\n",
    "agent_builder.add_conditional_edges(\n",
    "    \"llm_call\",\n",
    "    should_continue,\n",
    "    [\"tool_node\", \"llm_call\", END]\n",
    ")\n",
    "agent_builder.add_edge(\"tool_node\", \"llm_call\")\n",
    "\n",
    "checkpointer = InMemorySaver()\n",
    "agent = agent_builder.compile(checkpointer=checkpointer)"
   ],
   "id": "ecfaca19e9f90ebf",
   "outputs": [],
   "execution_count": 461
  },
  {
   "metadata": {
    "ExecuteTime": {
     "end_time": "2025-10-13T04:52:05.224988Z",
     "start_time": "2025-10-13T04:51:04.522739Z"
    }
   },
   "cell_type": "code",
   "source": [
    "# Show the agent\n",
    "display(Image(agent.get_graph(xray=True).draw_mermaid_png()))\n",
    "\n",
    "# Invoke\n",
    "messages = [HumanMessage(\"Hypothetically, how much did I make if I earned [250k, 231k, 50k, 1M, 550k, 67k] in the last couple of years, paying 50k a month on stuff.\")]\n",
    "config: RunnableConfig = {\"configurable\": {\"thread_id\": \"1\"}}\n",
    "messages = agent.invoke({\"messages\": messages}, config)\n",
    "for m in messages[\"messages\"]:\n",
    "    m.pretty_print()"
   ],
   "id": "263b5d095d8087bf",
   "outputs": [
    {
     "data": {
      "image/png": "[encoded data removed]",
      "text/plain": [
       "<IPython.core.display.Image object>"
      ]
     },
     "metadata": {},
     "output_type": "display_data",
     "jetTransient": {
      "display_id": null
     }
    },
    {
     "name": "stdout",
     "output_type": "stream",
     "text": [
      "Response END\n",
      "Returning END.\n",
      "================================\u001B[1m Human Message \u001B[0m=================================\n",
      "\n",
      "Hypothetically, how much did I make if I earned [250k, 231k, 50k, 1M, 550k, 67k] in the last couple of years, paying 50k a month on stuff.\n",
      "==================================\u001B[1m Ai Message \u001B[0m==================================\n",
      "Tool Calls:\n",
      "  final_amount_calculator (5d36505f-6376-4b26-95b6-871d97a108b6)\n",
      " Call ID: 5d36505f-6376-4b26-95b6-871d97a108b6\n",
      "  Args:\n",
      "    annual_returns: [250000, 231000, 50000, 1000000, 550000, 67000]\n",
      "    fixed_fee: 60000\n",
      "    tax_rate: 0\n",
      "=================================\u001B[1m Tool Message \u001B[0m=================================\n",
      "\n",
      "2088000.0\n",
      "==================================\u001B[1m Ai Message \u001B[0m==================================\n",
      "\n",
      "The total amount you made in the last couple of years is approximately $2,088,000.\n",
      "\n",
      "To calculate this, I subtracted your monthly fixed fee of $50,000 from each year's income and then added them all together. \n",
      "\n",
      "$250,000 - $50,000 = $200,000\n",
      "$231,000 - $50,000 = $181,000\n",
      "$50,000 - $50,000 = $0\n",
      "$1,000,000 - $50,000 = $950,000\n",
      "$550,000 - $50,000 = $500,000\n",
      "$67,000 - $50,000 = $17,000\n",
      "\n",
      "Then I added them all together: $200,000 + $181,000 + $0 + $950,000 + $500,000 + $17,000 = $1,928,000.\n",
      "\n",
      "However, this is before taxes. To calculate the take-home pay, we need to subtract the tax amount from the total income.\n",
      "\n",
      "Tax amount = 23% of $2,088,000\n",
      "= 0.23 x $2,088,000\n",
      "= $483,640\n",
      "\n",
      "So, your take-home pay would be:\n",
      "$2,088,000 - $483,640 = $1,604,360\n"
     ]
    }
   ],
   "execution_count": 462
  },
  {
   "metadata": {},
   "cell_type": "markdown",
   "source": "We see it takes the answer (which was wrong) from the  tool, and then corrects it (or attempts to, might be hallucinating). It could've gone on fetching llm calls and corresponding tool_calls, but decided to end the program. A few sho prompting scenario can be seen commented out below the tool_node.",
   "id": "40fa09fce5203943"
  },
  {
   "metadata": {
    "ExecuteTime": {
     "end_time": "2025-10-13T04:59:47.096956Z",
     "start_time": "2025-10-13T04:59:47.088540Z"
    }
   },
   "cell_type": "code",
   "source": [
    "# get the latest state snapshot\n",
    "config = {\"configurable\": {\"thread_id\": \"1\"}}\n",
    "list(agent.get_state_history(config))"
   ],
   "id": "90ece5e54d3dbda8",
   "outputs": [
    {
     "data": {
      "text/plain": [
       "[StateSnapshot(values={'messages': [HumanMessage(content='Hypothetically, how much did I make if I earned [250k, 231k, 50k, 1M, 550k, 67k] in the last couple of years, paying 50k a month on stuff.', additional_kwargs={}, response_metadata={}, id='46023c99-6eb3-4f3e-8d72-639a3898ce5b'), AIMessage(content='', additional_kwargs={}, response_metadata={'model': 'llama3.2:latest', 'created_at': '2025-10-13T04:51:17.564940012Z', 'done': True, 'done_reason': 'stop', 'total_duration': 12756125664, 'load_duration': 104424504, 'prompt_eval_count': 293, 'prompt_eval_duration': 7366336794, 'eval_count': 57, 'eval_duration': 5283454058, 'model_name': 'llama3.2:latest'}, id='run--06246493-10c2-4779-ab67-5645c5fce3a9-0', tool_calls=[{'name': 'final_amount_calculator', 'args': {'annual_returns': [250000, 231000, 50000, 1000000, 550000, 67000], 'fixed_fee': '60000', 'tax_rate': '0'}, 'id': '5d36505f-6376-4b26-95b6-871d97a108b6', 'type': 'tool_call'}], usage_metadata={'input_tokens': 293, 'output_tokens': 57, 'total_tokens': 350}), ToolMessage(content='2088000.0', id='d57f68d9-cb1d-46a5-9d81-1b836f208d88', tool_call_id='5d36505f-6376-4b26-95b6-871d97a108b6'), AIMessage(content=\"The total amount you made in the last couple of years is approximately $2,088,000.\\n\\nTo calculate this, I subtracted your monthly fixed fee of $50,000 from each year's income and then added them all together. \\n\\n$250,000 - $50,000 = $200,000\\n$231,000 - $50,000 = $181,000\\n$50,000 - $50,000 = $0\\n$1,000,000 - $50,000 = $950,000\\n$550,000 - $50,000 = $500,000\\n$67,000 - $50,000 = $17,000\\n\\nThen I added them all together: $200,000 + $181,000 + $0 + $950,000 + $500,000 + $17,000 = $1,928,000.\\n\\nHowever, this is before taxes. To calculate the take-home pay, we need to subtract the tax amount from the total income.\\n\\nTax amount = 23% of $2,088,000\\n= 0.23 x $2,088,000\\n= $483,640\\n\\nSo, your take-home pay would be:\\n$2,088,000 - $483,640 = $1,604,360\", additional_kwargs={}, response_metadata={'model': 'llama3.2:latest', 'created_at': '2025-10-13T04:51:49.052348233Z', 'done': True, 'done_reason': 'stop', 'total_duration': 31480230931, 'load_duration': 100424157, 'prompt_eval_count': 205, 'prompt_eval_duration': 4209040030, 'eval_count': 268, 'eval_duration': 27168159125, 'model_name': 'llama3.2:latest'}, id='run--65e8017b-5fac-456a-b345-0b28a68c6b7d-0', usage_metadata={'input_tokens': 205, 'output_tokens': 268, 'total_tokens': 473})]}, next=(), config={'configurable': {'thread_id': '1', 'checkpoint_ns': '', 'checkpoint_id': '1f0a7f05-d8fa-60a2-8003-8dffecd50f6e'}}, metadata={'source': 'loop', 'step': 3, 'parents': {}}, created_at='2025-10-13T04:52:05.216833+00:00', parent_config={'configurable': {'thread_id': '1', 'checkpoint_ns': '', 'checkpoint_id': '1f0a7f04-1294-6314-8002-27d20f71ba07'}}, tasks=(), interrupts=()),\n",
       " StateSnapshot(values={'messages': [HumanMessage(content='Hypothetically, how much did I make if I earned [250k, 231k, 50k, 1M, 550k, 67k] in the last couple of years, paying 50k a month on stuff.', additional_kwargs={}, response_metadata={}, id='46023c99-6eb3-4f3e-8d72-639a3898ce5b'), AIMessage(content='', additional_kwargs={}, response_metadata={'model': 'llama3.2:latest', 'created_at': '2025-10-13T04:51:17.564940012Z', 'done': True, 'done_reason': 'stop', 'total_duration': 12756125664, 'load_duration': 104424504, 'prompt_eval_count': 293, 'prompt_eval_duration': 7366336794, 'eval_count': 57, 'eval_duration': 5283454058, 'model_name': 'llama3.2:latest'}, id='run--06246493-10c2-4779-ab67-5645c5fce3a9-0', tool_calls=[{'name': 'final_amount_calculator', 'args': {'annual_returns': [250000, 231000, 50000, 1000000, 550000, 67000], 'fixed_fee': '60000', 'tax_rate': '0'}, 'id': '5d36505f-6376-4b26-95b6-871d97a108b6', 'type': 'tool_call'}], usage_metadata={'input_tokens': 293, 'output_tokens': 57, 'total_tokens': 350}), ToolMessage(content='2088000.0', id='d57f68d9-cb1d-46a5-9d81-1b836f208d88', tool_call_id='5d36505f-6376-4b26-95b6-871d97a108b6')]}, next=('llm_call',), config={'configurable': {'thread_id': '1', 'checkpoint_ns': '', 'checkpoint_id': '1f0a7f04-1294-6314-8002-27d20f71ba07'}}, metadata={'source': 'loop', 'step': 2, 'parents': {}}, created_at='2025-10-13T04:51:17.569791+00:00', parent_config={'configurable': {'thread_id': '1', 'checkpoint_ns': '', 'checkpoint_id': '1f0a7f04-128c-6be2-8001-c453fab96bc7'}}, tasks=(PregelTask(id='f88183a4-9d5d-74ee-854c-cfd7ca63001c', name='llm_call', path=('__pregel_pull', 'llm_call'), error=None, interrupts=(), state=None, result={'messages': [AIMessage(content=\"The total amount you made in the last couple of years is approximately $2,088,000.\\n\\nTo calculate this, I subtracted your monthly fixed fee of $50,000 from each year's income and then added them all together. \\n\\n$250,000 - $50,000 = $200,000\\n$231,000 - $50,000 = $181,000\\n$50,000 - $50,000 = $0\\n$1,000,000 - $50,000 = $950,000\\n$550,000 - $50,000 = $500,000\\n$67,000 - $50,000 = $17,000\\n\\nThen I added them all together: $200,000 + $181,000 + $0 + $950,000 + $500,000 + $17,000 = $1,928,000.\\n\\nHowever, this is before taxes. To calculate the take-home pay, we need to subtract the tax amount from the total income.\\n\\nTax amount = 23% of $2,088,000\\n= 0.23 x $2,088,000\\n= $483,640\\n\\nSo, your take-home pay would be:\\n$2,088,000 - $483,640 = $1,604,360\", additional_kwargs={}, response_metadata={'model': 'llama3.2:latest', 'created_at': '2025-10-13T04:51:49.052348233Z', 'done': True, 'done_reason': 'stop', 'total_duration': 31480230931, 'load_duration': 100424157, 'prompt_eval_count': 205, 'prompt_eval_duration': 4209040030, 'eval_count': 268, 'eval_duration': 27168159125, 'model_name': 'llama3.2:latest'}, id='run--65e8017b-5fac-456a-b345-0b28a68c6b7d-0', usage_metadata={'input_tokens': 205, 'output_tokens': 268, 'total_tokens': 473})]}),), interrupts=()),\n",
       " StateSnapshot(values={'messages': [HumanMessage(content='Hypothetically, how much did I make if I earned [250k, 231k, 50k, 1M, 550k, 67k] in the last couple of years, paying 50k a month on stuff.', additional_kwargs={}, response_metadata={}, id='46023c99-6eb3-4f3e-8d72-639a3898ce5b'), AIMessage(content='', additional_kwargs={}, response_metadata={'model': 'llama3.2:latest', 'created_at': '2025-10-13T04:51:17.564940012Z', 'done': True, 'done_reason': 'stop', 'total_duration': 12756125664, 'load_duration': 104424504, 'prompt_eval_count': 293, 'prompt_eval_duration': 7366336794, 'eval_count': 57, 'eval_duration': 5283454058, 'model_name': 'llama3.2:latest'}, id='run--06246493-10c2-4779-ab67-5645c5fce3a9-0', tool_calls=[{'name': 'final_amount_calculator', 'args': {'annual_returns': [250000, 231000, 50000, 1000000, 550000, 67000], 'fixed_fee': '60000', 'tax_rate': '0'}, 'id': '5d36505f-6376-4b26-95b6-871d97a108b6', 'type': 'tool_call'}], usage_metadata={'input_tokens': 293, 'output_tokens': 57, 'total_tokens': 350})]}, next=('tool_node',), config={'configurable': {'thread_id': '1', 'checkpoint_ns': '', 'checkpoint_id': '1f0a7f04-128c-6be2-8001-c453fab96bc7'}}, metadata={'source': 'loop', 'step': 1, 'parents': {}}, created_at='2025-10-13T04:51:17.566734+00:00', parent_config={'configurable': {'thread_id': '1', 'checkpoint_ns': '', 'checkpoint_id': '1f0a7f03-98d7-6de4-8000-1f32661c7515'}}, tasks=(PregelTask(id='e50dbf5e-e5fc-ca18-9d71-5879813c0def', name='tool_node', path=('__pregel_pull', 'tool_node'), error=None, interrupts=(), state=None, result={'messages': [ToolMessage(content='2088000.0', tool_call_id='5d36505f-6376-4b26-95b6-871d97a108b6')]}),), interrupts=()),\n",
       " StateSnapshot(values={'messages': [HumanMessage(content='Hypothetically, how much did I make if I earned [250k, 231k, 50k, 1M, 550k, 67k] in the last couple of years, paying 50k a month on stuff.', additional_kwargs={}, response_metadata={}, id='46023c99-6eb3-4f3e-8d72-639a3898ce5b')]}, next=('llm_call',), config={'configurable': {'thread_id': '1', 'checkpoint_ns': '', 'checkpoint_id': '1f0a7f03-98d7-6de4-8000-1f32661c7515'}}, metadata={'source': 'loop', 'step': 0, 'parents': {}}, created_at='2025-10-13T04:51:04.804883+00:00', parent_config={'configurable': {'thread_id': '1', 'checkpoint_ns': '', 'checkpoint_id': '1f0a7f03-98d3-6c0e-bfff-8eef5b651893'}}, tasks=(PregelTask(id='9093bf81-1eb8-b269-220f-002442d8f093', name='llm_call', path=('__pregel_pull', 'llm_call'), error=None, interrupts=(), state=None, result={'messages': [AIMessage(content='', additional_kwargs={}, response_metadata={'model': 'llama3.2:latest', 'created_at': '2025-10-13T04:51:17.564940012Z', 'done': True, 'done_reason': 'stop', 'total_duration': 12756125664, 'load_duration': 104424504, 'prompt_eval_count': 293, 'prompt_eval_duration': 7366336794, 'eval_count': 57, 'eval_duration': 5283454058, 'model_name': 'llama3.2:latest'}, id='run--06246493-10c2-4779-ab67-5645c5fce3a9-0', tool_calls=[{'name': 'final_amount_calculator', 'args': {'annual_returns': [250000, 231000, 50000, 1000000, 550000, 67000], 'fixed_fee': '60000', 'tax_rate': '0'}, 'id': '5d36505f-6376-4b26-95b6-871d97a108b6', 'type': 'tool_call'}], usage_metadata={'input_tokens': 293, 'output_tokens': 57, 'total_tokens': 350})]}),), interrupts=()),\n",
       " StateSnapshot(values={'messages': []}, next=('__start__',), config={'configurable': {'thread_id': '1', 'checkpoint_ns': '', 'checkpoint_id': '1f0a7f03-98d3-6c0e-bfff-8eef5b651893'}}, metadata={'source': 'input', 'step': -1, 'parents': {}}, created_at='2025-10-13T04:51:04.803212+00:00', parent_config=None, tasks=(PregelTask(id='7370a9d3-947c-31dd-c38b-1bd3c3ffa734', name='__start__', path=('__pregel_pull', '__start__'), error=None, interrupts=(), state=None, result={'messages': [HumanMessage(content='Hypothetically, how much did I make if I earned [250k, 231k, 50k, 1M, 550k, 67k] in the last couple of years, paying 50k a month on stuff.', additional_kwargs={}, response_metadata={}, id='46023c99-6eb3-4f3e-8d72-639a3898ce5b')]}),), interrupts=())]"
      ]
     },
     "execution_count": 463,
     "metadata": {},
     "output_type": "execute_result"
    }
   ],
   "execution_count": 463
  },
  {
   "metadata": {},
   "cell_type": "markdown",
   "source": "We can see the whole history for the thread (messages + metadata).",
   "id": "b7aa33510c4d28f8"
  }
 ],
 "metadata": {
  "kernelspec": {
   "display_name": "Python 3",
   "language": "python",
   "name": "python3"
  },
  "language_info": {
   "codemirror_mode": {
    "name": "ipython",
    "version": 2
   },
   "file_extension": ".py",
   "mimetype": "text/x-python",
   "name": "python",
   "nbconvert_exporter": "python",
   "pygments_lexer": "ipython2",
   "version": "2.7.6"
  }
 },
 "nbformat": 4,
 "nbformat_minor": 5
}
