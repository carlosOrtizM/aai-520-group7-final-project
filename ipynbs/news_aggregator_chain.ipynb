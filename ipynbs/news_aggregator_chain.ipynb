{
 "cells": [
  {
   "metadata": {
    "ExecuteTime": {
     "end_time": "2025-10-19T03:18:49.022418Z",
     "start_time": "2025-10-19T03:18:48.982912Z"
    }
   },
   "cell_type": "code",
   "source": [
    "import os\n",
    "from langchain_ollama import ChatOllama\n",
    "\n",
    "# Initialize an Ollama Client for our generative Llm model\n",
    "\n",
    "text_model = \"llama3.2\"\n",
    "\n",
    "def llm_client_loader():\n",
    "    \"\"\"This function serves an Ollama-hosted text generator model, to be used by our graphs.\"\"\"\n",
    "    try:\n",
    "        llm = ChatOllama(\n",
    "            model=text_model,\n",
    "            temperature=0.2\n",
    "        )\n",
    "        return llm\n",
    "    except Exception as e:\n",
    "        print(f\"Error {e} instantiating the Ollama client, is the Ollama server running?.\")\n",
    "\n",
    "llm = llm_client_loader()"
   ],
   "id": "3c3fc222cd80573e",
   "outputs": [],
   "execution_count": 61
  },
  {
   "metadata": {
    "ExecuteTime": {
     "end_time": "2025-10-19T04:46:17.288694Z",
     "start_time": "2025-10-19T04:46:17.286199Z"
    }
   },
   "cell_type": "code",
   "source": "stock_symbol = \"AAPL\" #relevant later",
   "id": "7fb476ce2c233ffe",
   "outputs": [],
   "execution_count": 156
  },
  {
   "metadata": {
    "ExecuteTime": {
     "end_time": "2025-10-19T04:50:04.750926Z",
     "start_time": "2025-10-19T04:50:04.732873Z"
    }
   },
   "cell_type": "code",
   "source": [
    "from langchain_community.tools import DuckDuckGoSearchRun\n",
    "# first an orchestrator generates a research plan\n",
    "import os\n",
    "from langgraph.constants import START\n",
    "from langgraph.graph import StateGraph\n",
    "from langgraph.graph import END\n",
    "from pydantic import Field, BaseModel\n",
    "from langgraph.graph import MessagesState\n",
    "from typing import Annotated, Literal\n",
    "import operator\n",
    "from langchain_core.messages import HumanMessage, SystemMessage\n",
    "from langgraph.types import Send\n",
    "from typing import List, TypedDict\n",
    "\n",
    "# Schemas for structured output\n",
    "class ReportSection(BaseModel):\n",
    "    research_objective: str = Field(description=\"The descriptive title and a few keywords for this section.\")\n",
    "\n",
    "# messages + structured output\n",
    "class FinancialReport(BaseModel):\n",
    "    sections: List[ReportSection] = Field(description=\"Sections of the financial report.\")\n",
    "\n",
    "# Internal states (dynamic)\n",
    "# Augment the LLM with schema for structured output\n",
    "planner = llm.with_structured_output(FinancialReport)\n",
    "\n",
    "# Internal State definition\n",
    "\n",
    "class State(MessagesState):\n",
    "    stock_symbol: str  # the stock to be analyzed\n",
    "    report_sections: list[ReportSection]  # list of Report sections to be filled out after research\n",
    "    completed_analyses: Annotated[\n",
    "        list, operator.add\n",
    "    ]  # Shared key for the analysts to write to\n",
    "    relevant_or_not: Annotated[list, operator.add] #Literal[\"Relevant\", \"Not relevant\"]\n",
    "    filtered_analyses: Annotated[\n",
    "        list, operator.add\n",
    "    ]\n",
    "    macro_financial_report: str\n",
    "\n",
    "class WorkerState(TypedDict):\n",
    "    report_section: ReportSection\n",
    "    completed_analyses: Annotated[list, operator.add]  # keys must match with other State!\n",
    "    relevant_or_not: Annotated[list, operator.add] #Literal[\"Relevant\", \"Not relevant\"]\n",
    "    filtered_report: str\n",
    "    filtered_analyses: Annotated[list, operator.add]\n",
    "    final_filtered_analysis: list\n",
    "\n",
    "# Nodes / Tools\n",
    "def orchestrator(state: State):\n",
    "    try:\n",
    "        \"\"\"Orchestrator that instantiates a research plan in specific sections in order to obtain a comprehensive overview of the selected stock.\"\"\"\n",
    "\n",
    "        # Generate queries...\n",
    "        report_sections = planner.invoke(\n",
    "            [\n",
    "                SystemMessage(\n",
    "                    content=\"You are tasked with generating a comprehensive, deep research initiative plan that synthesizes expertise from multiple domain experts to develop a robust understanding of the qualitative and quantitative behavior of the given stock. Provide a descriptive topic to research as well as a few keywords for each corresponding section. The output should be formatted as if it was ready to be ingested by a search engine. Example: Apple new CEO company turmoil.\"),\n",
    "                HumanMessage(content=f\"{state[\"stock_symbol\"]}.\"),\n",
    "            ]\n",
    "        )\n",
    "\n",
    "        return {\"report_sections\": report_sections.sections}\n",
    "\n",
    "    except Exception as e:\n",
    "        print(f\"Error {e} during the orchestrator process.\")\n",
    "\n",
    "def llm_call(state: WorkerState):\n",
    "    \"\"\"Worker performs research on the given research objective. If it must use a tool (it waits until it is redirected to use the tool\n",
    "    \"\"\"\n",
    "\n",
    "    try:\n",
    "        print(f\"Worker instantiated: {state['report_section'].research_objective}.\")\n",
    "        research_section_result = DuckDuckGoSearchRun()\n",
    "        response = research_section_result.invoke(state['report_section'].research_objective)\n",
    "\n",
    "        # Write the search result.\n",
    "        return {\"completed_analyses\": [response]}\n",
    "\n",
    "    except Exception as e:\n",
    "        print(f\"Error {e} during the llm-call process.\")\n",
    "\n",
    "# evaluator, after the Llm call\n",
    "\n",
    "# Schema for structured output to use in evaluation\n",
    "class Evaluation(BaseModel):\n",
    "    grade: Literal[\"Relevant\", \"Not relevant\"] = Field(\n",
    "        description=f\"Decide whether the content in the section is somehow connected to the given Stock {stock_symbol}, the overall financial market, or is not connected/relevant.\",\n",
    "    )\n",
    "\n",
    "# Augment the LLM with schema for structured output\n",
    "evaluator = llm.with_structured_output(Evaluation)\n",
    "\n",
    "def llm_call_evaluator(state: WorkerState):\n",
    "    \"\"\"LLM evaluates whether the information is connected to the given stock or financial market, or is not connected/relevant.\"\"\"\n",
    "\n",
    "    grade = evaluator.invoke(f\"Grade the information with relevant if it mentions the given stock {stock_symbol} or financial market, and not relevant if it doesn't: {state['filtered_report']}\")\n",
    "\n",
    "    print(f\"LLM evaluated prompt:{state['filtered_report']}\")\n",
    "    print(f\"LLM evaluation result: {grade}\")\n",
    "\n",
    "    if grade.grade == \"Relevant\":\n",
    "        return {\"filtered_analyses\": [state['filtered_report']]}\n",
    "    else:\n",
    "        return None\n",
    "\n",
    "def synthesizer(state: State):\n",
    "        \"\"\"Synthesize a summary report from the collection of news articles. Don't forget to include the\n",
    "        macroeconomic label for each news article.\"\"\"\n",
    "        try:\n",
    "            # List of completed sections\n",
    "            separate_analyses = state[\"filtered_analyses\"]\n",
    "\n",
    "            final_response = llm.invoke(f\"The following is set of summaries: {separate_analyses} \"\n",
    "                                                    f\"Take these and distill them into a final executive summary of the \"\n",
    "                                                    f\"main themes, capturing the key ideas without missing critical \"\n",
    "                                                    f\"points. Ensure the summary touches upon all of the main themes \"\n",
    "                                                    f\"found, and be sure to include important details.\")\n",
    "\n",
    "            #print(f\"Synthesizing summary report: {completed_report}\")\n",
    "            # Format completed section to str to use as context for final sections\n",
    "            #serialized_completed_report = \"\\n\\n---\\n\\n\".join(completed_report)\n",
    "\n",
    "            return {\"macro_financial_report\": final_response}\n",
    "        except Exception as e:\n",
    "            print(f\"Error {e} during the synthesizer process.\")\n",
    "\n",
    "# a spawner generates llm_call functions\n",
    "# Conditional edge function to create llm_call workers that each write a section of the report\n",
    "def assign_workers(state: State):\n",
    "    try:\n",
    "        \"\"\"Assign a worker to each report section.\"\"\"\n",
    "        # Kick off section writing in parallel via Send() API\n",
    "        return [Send(\"llm_call\", {\"report_section\": s}) for s in state[\"report_sections\"]]\n",
    "    except Exception as e:\n",
    "        print(f\"Error {e} during the worker assignment process 1.\")\n",
    "\n",
    "# a spawner generates llm_evaluator functions\n",
    "# Conditional edge function to create llm_call workers that each evaluate a section of the report\n",
    "def assign_workers_filter(state: State):\n",
    "    try:\n",
    "        \"\"\"Assign a worker to each report section.\"\"\"\n",
    "        # Kick off section writing in parallel via Send() API\n",
    "        return [Send(\"llm_call_evaluator\", {\"filtered_report\": s}) for s in state[\"completed_analyses\"]]\n",
    "    except Exception as e:\n",
    "        print(f\"Error {e} during the worker assignment process 2.\")"
   ],
   "id": "6437e3e0a0d095c0",
   "outputs": [],
   "execution_count": 159
  },
  {
   "metadata": {},
   "cell_type": "code",
   "outputs": [],
   "execution_count": null,
   "source": [
    "class ReportSectionW(BaseModel):\n",
    "    title: str = Field(description=\"The title that best fits the information.\")\n",
    "    summary: str = Field(description=\"A bullet point summary of the research.\")\n",
    "\n",
    "summarizer = llm.with_structured_output(ReportSectionW) # yfinance"
   ],
   "id": "d7270bd6a55a900e"
  },
  {
   "metadata": {
    "ExecuteTime": {
     "end_time": "2025-10-19T04:50:12.069324Z",
     "start_time": "2025-10-19T04:50:12.050937Z"
    }
   },
   "cell_type": "code",
   "source": [
    "# Build workflow\n",
    "orchestrator_worker_builder = StateGraph(State)\n",
    "\n",
    "# Add the nodes\n",
    "orchestrator_worker_builder.add_node(\"orchestrator\", orchestrator)\n",
    "orchestrator_worker_builder.add_node(\"llm_call\", llm_call)\n",
    "orchestrator_worker_builder.add_node(\"llm_call_evaluator\", llm_call_evaluator)\n",
    "orchestrator_worker_builder.add_node(\"synthesizer\", synthesizer)\n",
    "\n",
    "# Add edges to connect nodes\n",
    "orchestrator_worker_builder.add_edge(START, \"orchestrator\")\n",
    "orchestrator_worker_builder.add_conditional_edges(\n",
    "    \"orchestrator\", assign_workers, [\"llm_call\"]\n",
    ")\n",
    "# spawn? or one-to-one is enough?\n",
    "orchestrator_worker_builder.add_conditional_edges(\n",
    "    \"llm_call\", assign_workers_filter, [\"llm_call_evaluator\"]\n",
    ")\n",
    "orchestrator_worker_builder.add_edge(\"llm_call_evaluator\", \"synthesizer\")\n",
    "orchestrator_worker_builder.add_edge(\"synthesizer\", END)\n",
    "\n",
    "# Compile the workflow\n",
    "graph = orchestrator_worker_builder.compile()"
   ],
   "id": "4956cae1ae294a15",
   "outputs": [],
   "execution_count": 160
  },
  {
   "metadata": {},
   "cell_type": "markdown",
   "source": "missing running the function below to get the graph visualization",
   "id": "a87719fa55f0bcf7"
  },
  {
   "metadata": {},
   "cell_type": "code",
   "outputs": [],
   "execution_count": null,
   "source": [
    "def _repr_mimebundle_(self, **kwargs):\n",
    "    \"\"\"Mime bundle used by jupyter to display the graph\"\"\"\n",
    "    output = {\n",
    "        \"text/plain\": repr(self),\n",
    "        \"image/png\": self.get_graph().draw_mermaid_png()\n",
    "        }\n",
    "    return output\n",
    "\n",
    "graph._repr_mimebundle_ = _repr_mimebundle_.__get__(graph)\n",
    "print(graph)\n",
    "display(graph)"
   ],
   "id": "13d28bfa98020575"
  },
  {
   "metadata": {
    "ExecuteTime": {
     "end_time": "2025-10-19T04:50:27.355074Z",
     "start_time": "2025-10-19T04:50:16.392600Z"
    }
   },
   "cell_type": "code",
   "source": "state = graph.invoke({\"stock_symbol\": stock_symbol})",
   "id": "879ea3105de82e43",
   "outputs": [
    {
     "name": "stdout",
     "output_type": "stream",
     "text": [
      "Worker instantiated: Analyzing the Role of Artificial Intelligence in Apple's (AAPL) Product Development and Innovation Strategy.Worker instantiated: Understanding the Impact of Apple's (AAPL) Recent Earnings Report on Investor Sentiment and Stock Price Volatility.\n",
      "\n",
      "Worker instantiated: Investigating the Relationship Between Apple's (AAPL) Supply Chain Management and Environmental Sustainability.\n",
      "LLM evaluated prompt:Sep 11, 2025 · Using a VPN, or virtual private network, is one of the best ways to protect your online privacy. We review dozens every year, and these are the best VPNs we've tested. Proton VPN rises above the competition with an excellent collection of features, a high-performance server network, and a nearly peerless free subscription option, making it the top … Fast, secure, and risk-free VPN for online privacy. Encrypt your traffic, change your IP, and browse freely without restrictions or intrusive ads. Protect your privacy, stream worldwide, and enjoy fast speeds with ExpressVPN. Servers in 105 countries, 24/7 support, and a 30-day risk-free trial—start now! Quelles crypto-monnaies Turbo VPN accepte-t-il ? Turbo VPN prend en charge une large gamme de crypto-monnaies populaires, notamment Bitcoin, Ethereum, Dogecoin, Binance Coin, …\n",
      "LLM evaluation result: grade='Not relevant'\n",
      "LLM evaluated prompt:Aug 1, 2025 · In recent months, Apple ' s shares have receded approximately 18% from peak valuations, signaling potential investor skepticism. The current scenario sees technical indicators converging—a sign of possible volatility akin to a tightly wound spring poised for release. Aug 1, 2025 · Analysts were cautious heading into Apple ' s latest earnings report but breathed a sigh of relief after the \"Magnificent Seven\" titan posted its biggest quarterly revenue growth since... Apr 28, 2025 · Examine the key factors to watch before the next Apple earnings report to help you make informed decisions on AAPL . May 1, 2025 · Despite Apple ' s strong brand and innovations in custom silicon, the current geopolitical and operational hurdles present a compelling bearish case for AAPL stock . Bank of America analyst Wamsi Mohan, who has a Buy rating and $256 price target on Apple , said the staggered launch of Apple Intelligence is likely to result in a pickup in demand later this...\n",
      "LLM evaluation result: grade='Relevant'\n",
      "LLM evaluated prompt:Being Vermont's premier grocery and c-store distributor, we have become partners with over 400 small retailers across Vermont. Vermont and Upstate New York Authorized Toyota Forklift Dealer | At Northern Toyotalift we carry a large inventory of high quality new and used certified Toyota forklifts – the number one ... Smart, friendly support Solid inventory Real service from real people Come see us at Hulbert Supply Tupper Lake or any of our locations throughout New York and Vermont, or visit us online! Let us show you how we align with our customers to maximize manufacturing spend, reduce inventory, improve quality and delivery. VAI is ISO: 9001:2015 and AS9100D certified, and … Through continuous investment in its stock portfolio, Stratton Aviation, has an developed an extensive pool of inventory available for outright purchase, exchange and lease.\n",
      "LLM evaluation result: grade='Relevant'\n"
     ]
    }
   ],
   "execution_count": 161
  },
  {
   "metadata": {
    "ExecuteTime": {
     "end_time": "2025-10-19T04:51:31.417361Z",
     "start_time": "2025-10-19T04:51:31.415301Z"
    }
   },
   "cell_type": "code",
   "source": "print(state[\"macro_financial_report\"].content)",
   "id": "e765deeea98eed6f",
   "outputs": [
    {
     "name": "stdout",
     "output_type": "stream",
     "text": [
      "Here is a distilled executive summary of the main themes:\n",
      "\n",
      "**Apple Stock: Volatility Ahead**\n",
      "\n",
      "* Apple's shares have declined by 18% from peak valuations, indicating potential investor skepticism.\n",
      "* Technical indicators are converging, suggesting possible volatility akin to a tightly wound spring poised for release.\n",
      "\n",
      "**Recent Earnings Report: Mixed Signals**\n",
      "\n",
      "* Analysts were cautious heading into Apple's latest earnings report but were relieved to see the company post its biggest quarterly revenue growth since [date].\n",
      "* The \"Magnificent Seven\" titan's strong brand and innovations in custom silicon are being weighed against geopolitical and operational hurdles that present a bearish case for AAPL stock.\n",
      "\n",
      "**Key Factors to Watch**\n",
      "\n",
      "* The staggered launch of Apple Intelligence is expected to result in a pickup in demand later this year, according to Bank of America analyst Wamsi Mohan.\n",
      "* Geopolitical and operational challenges are affecting the company's performance.\n",
      "\n",
      "**Industry Context: Stratton Aviation**\n",
      "\n",
      "* Stratton Aviation has developed an extensive pool of inventory available for outright purchase, exchange, and lease through its continuous investment in its stock portfolio.\n",
      "* The company is ISO: 9001:2015 and AS9100D certified, indicating a commitment to quality and excellence.\n",
      "\n",
      "Overall, the summary highlights the potential for volatility in Apple's stock, mixed signals from recent earnings reports, and key factors to watch as the company navigates geopolitical and operational challenges. It also touches on the broader industry context through Stratton Aviation's investment in its stock portfolio.\n"
     ]
    }
   ],
   "execution_count": 167
  }
 ],
 "metadata": {
  "kernelspec": {
   "name": "python3",
   "language": "python",
   "display_name": "Python 3 (ipykernel)"
  }
 },
 "nbformat": 4,
 "nbformat_minor": 5
}
